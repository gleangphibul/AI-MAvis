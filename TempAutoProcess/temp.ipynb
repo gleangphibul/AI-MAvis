{
 "cells": [
  {
   "cell_type": "code",
   "execution_count": null,
   "metadata": {},
   "outputs": [],
   "source": [
    "file_name_list=['MAPF03', 'MAPF03C', 'MAPFslidingpuzzle',\n",
    " 'MAPFreorder2']\n",
    "for name in file_name_list:\n",
    "    var=name\n",
    "    print(\"Map Name: {}\".format(name))\n",
    "    %run temp.py --args $var\n",
    "    print('\\n')"
   ]
  },
  {
   "cell_type": "code",
   "execution_count": null,
   "metadata": {},
   "outputs": [
    {
     "name": "stdout",
     "output_type": "stream",
     "text": [
      "pygame 2.6.1 (SDL 2.28.4, Python 3.11.11)\n",
      "Hello from the pygame community. https://www.pygame.org/contribute.html\n",
      "State rendered and saved to Images/BFSfriendly3.png\n",
      "\n",
      "\n",
      "BFS START\n"
     ]
    },
    {
     "data": {
      "application/vnd.jupyter.widget-view+json": {
       "model_id": "3df6a44a3c37487591a15cd21c2b6eab",
       "version_major": 2,
       "version_minor": 0
      },
      "text/plain": [
       "  0%|          | 0/10 [00:00<?, ?it/s]"
      ]
     },
     "metadata": {},
     "output_type": "display_data"
    },
    {
     "name": "stdout",
     "output_type": "stream",
     "text": [
      "Average solution legth: 6.0\n",
      "Solution length variance : 0.0\n",
      "Average number of states generated: 25.7\n",
      "Number of states generated variance : 0.8100000000000002\n",
      "\n",
      "\n",
      "DFS START\n"
     ]
    },
    {
     "data": {
      "application/vnd.jupyter.widget-view+json": {
       "model_id": "e2afbe4c418c4938b49f94c8400b7541",
       "version_major": 2,
       "version_minor": 0
      },
      "text/plain": [
       "  0%|          | 0/10 [00:00<?, ?it/s]"
      ]
     },
     "metadata": {},
     "output_type": "display_data"
    },
    {
     "name": "stdout",
     "output_type": "stream",
     "text": [
      "Average solution legth: 9.0\n",
      "Solution length variance : 9.0\n",
      "Average number of states generated: 14.1\n",
      "Number of states generated variance : 10.09\n"
     ]
    }
   ],
   "source": [
    "%run temp.py --args BFSfriendly3"
   ]
  },
  {
   "cell_type": "code",
   "execution_count": 1,
   "metadata": {},
   "outputs": [
    {
     "name": "stdout",
     "output_type": "stream",
     "text": [
      "pygame 2.6.1 (SDL 2.28.4, Python 3.11.11)\n",
      "Hello from the pygame community. https://www.pygame.org/contribute.html\n",
      "State rendered and saved to Images/MAPFreorder2.png\n",
      "\n",
      "\n",
      "BFS START\n"
     ]
    },
    {
     "data": {
      "application/vnd.jupyter.widget-view+json": {
       "model_id": "dbf3f449833f44a1af9c10c7bd257b8c",
       "version_major": 2,
       "version_minor": 0
      },
      "text/plain": [
       "  0%|          | 0/1 [00:00<?, ?it/s]"
      ]
     },
     "metadata": {},
     "output_type": "display_data"
    },
    {
     "name": "stdout",
     "output_type": "stream",
     "text": [
      "Average solution legth: 38.0\n",
      "Solution length variance : 0.0\n",
      "Average number of states generated: 3603598.0\n",
      "Number of states generated variance : 0.0\n",
      "\n",
      "\n",
      "DFS START\n"
     ]
    },
    {
     "data": {
      "application/vnd.jupyter.widget-view+json": {
       "model_id": "d2647c1a54b7439e91b0fb0ea747b69e",
       "version_major": 2,
       "version_minor": 0
      },
      "text/plain": [
       "  0%|          | 0/1 [00:00<?, ?it/s]"
      ]
     },
     "metadata": {},
     "output_type": "display_data"
    },
    {
     "name": "stdout",
     "output_type": "stream",
     "text": [
      "Average solution legth: 182165.0\n",
      "Solution length variance : 0.0\n",
      "Average number of states generated: 504619.0\n",
      "Number of states generated variance : 0.0\n"
     ]
    }
   ],
   "source": [
    "%run temp.py --args MAPFreorder2"
   ]
  },
  {
   "cell_type": "code",
   "execution_count": null,
   "metadata": {},
   "outputs": [],
   "source": []
  }
 ],
 "metadata": {
  "kernelspec": {
   "display_name": "ArtificialIntelligence",
   "language": "python",
   "name": "python3"
  },
  "language_info": {
   "codemirror_mode": {
    "name": "ipython",
    "version": 3
   },
   "file_extension": ".py",
   "mimetype": "text/x-python",
   "name": "python",
   "nbconvert_exporter": "python",
   "pygments_lexer": "ipython3",
   "version": "3.11.11"
  }
 },
 "nbformat": 4,
 "nbformat_minor": 2
}
