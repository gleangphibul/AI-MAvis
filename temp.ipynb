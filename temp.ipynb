{
 "cells": [
  {
   "cell_type": "code",
   "execution_count": null,
   "metadata": {},
   "outputs": [],
   "source": [
    "stop=False\n",
    "print(\"Enter X to exit the program at any time.\")\n",
    "\n",
    "\n",
    "while stop == False:\n",
    "    filename= str(input(\"Enter the name of the file to be processed: ex. MAPF03 or a comma seperated list of files: \"))\n",
    "    if filename == 'X':\n",
    "        print(\"Exiting program.\")\n",
    "        stop=True\n",
    "        break\n",
    "   \n",
    "    filenamelist= filename.split(',')\n",
    "    sameheuristicandstrat=False\n",
    "    if len(filenamelist) > 1:\n",
    "        sameheuristicandstrat=input(\"Do you want to use the same heuristic and strategy for all files? (Y/N): \")=='Y'\n",
    "   \n",
    "    for name in filenamelist:\n",
    "        \n",
    "        if sameheuristicandstrat==False or name==filenamelist[0]:\n",
    "            heuristic1= str(input(\"Enter the heuristic to be used: (zero, goalcount, advanced) \"))\n",
    "            while not(heuristic1 in ['zero', 'goalcount', 'advanced']) and (heuristic1 != 'X'):\n",
    "                print(\"Invalid heuristic. Please enter a valid heuristic.\")\n",
    "                heuristic1= str(input(\"Enter the heuristic to be used: (zero, goalcount, advanced) \"))\n",
    "            if heuristic1 == 'X':\n",
    "                print(\"Exiting program.\")\n",
    "                stop=True\n",
    "                break\n",
    "        \n",
    "            strategy= input(\"Enter the strategy to be used: (bfs, dfs, astar, greedy) \")\n",
    "            while not(strategy  in ['bfs', 'dfs', 'astar', 'greedy']) and (strategy != 'X'):\n",
    "                print(\"Invalid strategy. Please enter a valid strategy.\")\n",
    "                strategy= input(\"Enter the strategy to be used: (bfs, dfs, astar, greedy) \")\n",
    "            if strategy == 'X':\n",
    "                print(\"Exiting program.\")\n",
    "                stop=True\n",
    "                break\n",
    "\n",
    "            trials= input(\"Enter the number of trials to be run:\")\n",
    "            while not trials.isdigit() and (trials != 'X'):\n",
    "                print(\"Invalid number of trials. Please enter a valid number.\")\n",
    "                trials= input(\"Enter the number of trials to be run:\")\n",
    "            if trials == 'X':\n",
    "                print(\"Exiting program.\")\n",
    "                stop=True\n",
    "                break\n",
    "        print('Name: ' + name)\n",
    "        print('Heuristic: ' + heuristic1)\n",
    "        print('Strategy: ' + strategy)\n",
    "        print('Trials: ', trials)\n",
    "        print('')\n",
    "        print(name +' running with '+ heuristic1 + 'heuristic and ' + strategy + ' with ' + str(trials) + ' trials:')\n",
    "\n",
    "        %run temp.py --args $name --args $heuristic1 --args $strategy --args $trials\n",
    "    if stop==True:\n",
    "        break"
   ]
  }
 ],
 "metadata": {
  "kernelspec": {
   "display_name": "ArtificialIntelligence",
   "language": "python",
   "name": "python3"
  },
  "language_info": {
   "codemirror_mode": {
    "name": "ipython",
    "version": 3
   },
   "file_extension": ".py",
   "mimetype": "text/x-python",
   "name": "python",
   "nbconvert_exporter": "python",
   "pygments_lexer": "ipython3",
   "version": "3.11.11"
  }
 },
 "nbformat": 4,
 "nbformat_minor": 2
}
