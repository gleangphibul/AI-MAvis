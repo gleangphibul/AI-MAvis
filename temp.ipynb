{
 "cells": [
  {
   "cell_type": "code",
   "execution_count": null,
   "metadata": {},
   "outputs": [],
   "source": [
    "file_name_list=['MAPF03', 'MAPF03C', 'MAPFslidingpuzzle',\n",
    " 'MAPFreorder2']\n",
    "for name in file_name_list:\n",
    "    var=name\n",
    "    print(\"Map Name: {}\".format(name))\n",
    "    %run temp.py --args $var\n",
    "    print('\\n')"
   ]
  },
  {
   "cell_type": "code",
   "execution_count": 2,
   "metadata": {},
   "outputs": [
    {
     "name": "stdout",
     "output_type": "stream",
     "text": [
      "Enter X to exit the program at any time.\n",
      "Name: Debug1\n",
      "Heuristic: goalcount\n",
      "Strategy: greedy\n",
      "Trials:  1\n",
      "\n",
      "Debug1 running with goalcountheuristic and greedy with 1 trials:\n",
      "State rendered and saved to Images/Debug1.png\n"
     ]
    },
    {
     "data": {
      "application/vnd.jupyter.widget-view+json": {
       "model_id": "d89a3ef7caee41bbb145fe7926c2f329",
       "version_major": 2,
       "version_minor": 0
      },
      "text/plain": [
       "  0%|          | 0/1 [00:00<?, ?it/s]"
      ]
     },
     "metadata": {},
     "output_type": "display_data"
    },
    {
     "name": "stdout",
     "output_type": "stream",
     "text": [
      "Average solution legth: 3.0\n",
      "Solution length variance : 0.0\n",
      "Average number of states generated: 19.0\n",
      "Number of states generated variance : 0.0\n",
      "\n",
      "\n",
      "Name: Debug1\n",
      "Heuristic: advanced\n",
      "Strategy: astar\n",
      "Trials:  1\n",
      "\n",
      "Debug1 running with advancedheuristic and astar with 1 trials:\n",
      "State rendered and saved to Images/Debug1.png\n"
     ]
    },
    {
     "data": {
      "application/vnd.jupyter.widget-view+json": {
       "model_id": "4f916ca93f6e462fa9ff9056f236bc07",
       "version_major": 2,
       "version_minor": 0
      },
      "text/plain": [
       "  0%|          | 0/1 [00:00<?, ?it/s]"
      ]
     },
     "metadata": {},
     "output_type": "display_data"
    },
    {
     "name": "stdout",
     "output_type": "stream",
     "text": [
      "Average solution legth: 3.0\n",
      "Solution length variance : 0.0\n",
      "Average number of states generated: 18.0\n",
      "Number of states generated variance : 0.0\n",
      "\n",
      "\n",
      "Exiting program.\n"
     ]
    }
   ],
   "source": [
    "stop=False\n",
    "print(\"Enter X to exit the program at any time.\")\n",
    "\n",
    "\n",
    "while stop == False:\n",
    "    filename= str(input(\"Enter the name of the file to be processed: ex. MAPF03 or a comma seperated list of files: \"))\n",
    "    if filename == 'X':\n",
    "        print(\"Exiting program.\")\n",
    "        stop=True\n",
    "        break\n",
    "   \n",
    "    filenamelist= filename.split(',')\n",
    "    sameheuristicandstrat=False\n",
    "    if len(filenamelist) > 1:\n",
    "        sameheuristicandstrat=input(\"Do you want to use the same heuristic and strategy for all files? (Y/N): \")=='Y'\n",
    "   \n",
    "    for name in filenamelist:\n",
    "        \n",
    "        if sameheuristicandstrat==False or name==filenamelist[0]:\n",
    "            heuristic1= str(input(\"Enter the heuristic to be used: (zero, goalcount, advanced) \"))\n",
    "            while not(heuristic1 in ['zero', 'goalcount', 'advanced']) and (heuristic1 != 'X'):\n",
    "                print(\"Invalid heuristic. Please enter a valid heuristic.\")\n",
    "                heuristic1= str(input(\"Enter the heuristic to be used: (zero, goalcount, advanced) \"))\n",
    "            if heuristic1 == 'X':\n",
    "                print(\"Exiting program.\")\n",
    "                stop=True\n",
    "                break\n",
    "        \n",
    "            strategy= input(\"Enter the strategy to be used: (bfs, dfs, astar, greedy) \")\n",
    "            while not(strategy  in ['bfs', 'dfs', 'astar', 'greedy']) and (strategy != 'X'):\n",
    "                print(\"Invalid strategy. Please enter a valid strategy.\")\n",
    "                strategy= input(\"Enter the strategy to be used: (bfs, dfs, astar, greedy) \")\n",
    "            if strategy == 'X':\n",
    "                print(\"Exiting program.\")\n",
    "                stop=True\n",
    "                break\n",
    "\n",
    "            trials= input(\"Enter the number of trials to be run:\")\n",
    "            while not trials.isdigit() and (trials != 'X'):\n",
    "                print(\"Invalid number of trials. Please enter a valid number.\")\n",
    "                trials= input(\"Enter the number of trials to be run:\")\n",
    "            if trials == 'X':\n",
    "                print(\"Exiting program.\")\n",
    "                stop=True\n",
    "                break\n",
    "        print('Name: ' + name)\n",
    "        print('Heuristic: ' + heuristic1)\n",
    "        print('Strategy: ' + strategy)\n",
    "        print('Trials: ', trials)\n",
    "        print('')\n",
    "        print(name +' running with '+ heuristic1 + 'heuristic and ' + strategy + ' with ' + str(trials) + ' trials:')\n",
    "\n",
    "        %run temp.py --args $name --args $heuristic1 --args $strategy --args $trials\n",
    "    if stop==True:\n",
    "        break"
   ]
  }
 ],
 "metadata": {
  "kernelspec": {
   "display_name": "ArtificialIntelligence",
   "language": "python",
   "name": "python3"
  },
  "language_info": {
   "codemirror_mode": {
    "name": "ipython",
    "version": 3
   },
   "file_extension": ".py",
   "mimetype": "text/x-python",
   "name": "python",
   "nbconvert_exporter": "python",
   "pygments_lexer": "ipython3",
   "version": "3.11.11"
  }
 },
 "nbformat": 4,
 "nbformat_minor": 2
}
