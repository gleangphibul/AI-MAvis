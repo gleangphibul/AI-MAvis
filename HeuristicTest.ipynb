{
 "cells": [
  {
   "cell_type": "code",
   "execution_count": 59,
   "metadata": {},
   "outputs": [
    {
     "name": "stdout",
     "output_type": "stream",
     "text": [
      "Modules imported successfully.\n"
     ]
    }
   ],
   "source": [
    "# Import necessary modules from your files\n",
    "import os\n",
    "import subprocess\n",
    "import numpy as np\n",
    "\n",
    "from tqdm.notebook import tqdm\n",
    "\n",
    "from searchclient.agent_types.classic import * \n",
    "\n",
    "# Import all action classes (used for hardcoding solutions) and actions libraries\n",
    "from searchclient.domains.hospital.actions import (\n",
    "    NoOpAction, MoveAction, PushAction, PullAction, AnyAction, DEFAULT_MAPF_ACTION_LIBRARY, DEFAULT_HOSPITAL_ACTION_LIBRARY\n",
    ")\n",
    "\n",
    "# Import state, goal description and level classes for the MAvis hospital environment\n",
    "from searchclient.domains.hospital.state import HospitalState\n",
    "from searchclient.domains.hospital.goal_description import HospitalGoalDescription\n",
    "from searchclient.domains.hospital.level import HospitalLevel\n",
    "\n",
    "# Import the Graph-Search algorithm\n",
    "from searchclient.search_algorithms.graph_search import graph_search\n",
    "\n",
    "# Import the different search strategies for both uninformed and informed search\n",
    "from searchclient.strategies.bfs import FrontierBFS\n",
    "from searchclient.strategies.dfs import FrontierDFS\n",
    "from searchclient.strategies.bestfirst import FrontierBestFirst, FrontierGreedy, FrontierAStar\n",
    "\n",
    "# Import heuristic classes, to be used in informed search methods\n",
    "from searchclient.domains.hospital.heuristics import (\n",
    "    HospitalZeroHeuristic, HospitalGoalCountHeuristics, HospitalAdvancedHeuristics\n",
    ")\n",
    "\n",
    "# Ensure the environment is set up properly\n",
    "print(\"Modules imported successfully.\")"
   ]
  },
  {
   "cell_type": "code",
   "execution_count": 60,
   "metadata": {},
   "outputs": [
    {
     "name": "stdout",
     "output_type": "stream",
     "text": [
      "The initial state of the level is:\n",
      "++++++++\n",
      "+      +\n",
      "+      +\n",
      "+ 0    +\n",
      "+      +\n",
      "+      +\n",
      "+      +\n",
      "++++++++\n",
      "\n",
      "The goal description of the level is:\n",
      "((5, 5), '0', True)\n",
      "\n",
      "So agent zero starts at (3, 2) and satisfies the goal at (5, 5)\n"
     ]
    }
   ],
   "source": [
    "# Function to load a level file\n",
    "def load_level_file_from_path(path):\n",
    "    with open(path, \"r\") as f:\n",
    "        lines = f.readlines()\n",
    "        lines = list(map(lambda line: line.strip(), lines))\n",
    "        return lines\n",
    "  \n",
    "# Example usage: load_level('path_to_level_file.lvl')\n",
    "level_path = \"levels/SimpleDebug.lvl\"\n",
    "level_lines = load_level_file_from_path(level_path)\n",
    "level = HospitalLevel.parse_level_lines(level_lines)\n",
    "\n",
    "# We can access the initial state of the level using the following code\n",
    "initial_state = HospitalState(level, level.initial_agent_positions, level.initial_box_positions)\n",
    "\n",
    "# We can access the goal description of the level using the following code\n",
    "goal_description = HospitalGoalDescription(level, level.box_goals + level.agent_goals)\n",
    "\n",
    "print('The initial state of the level is:')\n",
    "print(initial_state)\n",
    "\n",
    "print('\\nThe goal description of the level is:')\n",
    "print(goal_description) # which tells us where the level objects (like boxes and agents) should be placed to satisfy the goal\n",
    "print('\\nSo agent zero starts at {} and satisfies the goal at {}'.format(level.initial_agent_positions[0][0], goal_description.agent_goals[0][0]))"
   ]
  },
  {
   "cell_type": "code",
   "execution_count": 61,
   "metadata": {},
   "outputs": [],
   "source": [
    "def render_plan(level_path, plan, strategy_name, heuristic_name, num_generated, elapsed_time, sol_length):\n",
    "\n",
    "    str_plan = convert_plan_to_string(plan) #convert the plan to a string\n",
    "\n",
    "    # this just makes sure that the meta information is displayed correctly in the visualization\n",
    "    if strategy_name == 'greedy' or strategy_name == 'astar':\n",
    "        strategy_name_pygame = strategy_name + ' w. ' + heuristic_name\n",
    "    else:\n",
    "        strategy_name_pygame = strategy_name\n",
    "    \n",
    "    subprocess.run([\"python3\", \n",
    "                    \"renderMAvis.py\", \n",
    "                    \"--level\", level_path, \n",
    "                    \"--plan\", str_plan, \n",
    "                    \"--search_strategy\", strategy_name_pygame, \n",
    "                    \"--num_generated\", str(num_generated), \n",
    "                    \"--time_elapsed\", str(elapsed_time), \n",
    "                    \"--sol_length\", str(sol_length)])"
   ]
  },
  {
   "cell_type": "code",
   "execution_count": 62,
   "metadata": {},
   "outputs": [],
   "source": [
    "# Before running the search algorithm, we need to define the action set and the action library\n",
    "# Use this library for pure pathfinding problems\n",
    "action_library = DEFAULT_MAPF_ACTION_LIBRARY\n",
    "\n",
    "# Use this library for sokoban-like problems (includes Push and Pull actions)\n",
    "#action_library = DEFAULT_HOSPITAL_ACTION_LIBRARY\n",
    "\n",
    "# Every agent will have the same action set\n",
    "action_set = [action_library] * level.num_agents\n",
    "\n",
    "# In order to run Graph-Search, we need to specify the initial state, action set, goal description, and frontier \n",
    "\n",
    "# If needed, we need to specify and fetch a heuristic function before initializing the frontier (informed search) \n",
    "# When adding new heuristics, remember to update the dictionary! \n",
    "# Use a string that matches the name of the heuristic function in the heuristics.py file\n",
    "heuristic_name = \"advanced\" \n",
    "heuristic = {\n",
    "        'zero': HospitalZeroHeuristic,\n",
    "        'goalcount': HospitalGoalCountHeuristics,\n",
    "        'advanced': HospitalAdvancedHeuristics,\n",
    "    }.get(heuristic_name, HospitalAdvancedHeuristics)() # make sure you understand what .get() does\n",
    "\n",
    "\n",
    "# Finally, let's pick the search strategy and fetch the relevant frontier\n",
    "strategy_name = \"greedy\" \n",
    "frontier = {\n",
    "        'bfs': FrontierBFS,\n",
    "        'dfs': FrontierDFS,\n",
    "        'astar': lambda: FrontierAStar(heuristic),\n",
    "        'greedy': lambda: FrontierGreedy(heuristic)\n",
    "    }.get(strategy_name, FrontierBFS)() # make sure you understand what .get() does"
   ]
  },
  {
   "cell_type": "code",
   "execution_count": 63,
   "metadata": {},
   "outputs": [
    {
     "name": "stdout",
     "output_type": "stream",
     "text": [
      "Planning successful: True\n",
      "Plan: [[Move(E)], [Move(S)], [Move(S)], [Move(E)], [Move(E)]]\n",
      "Solution length: 5\n",
      "Number of states generated: 6\n",
      "Elapsed time: 0.0\n"
     ]
    }
   ],
   "source": [
    "# Now that we have defined the initial state, action set, goal description, and frontier, we can run the search algorithm\n",
    "planning_success, plan, num_generated, elapsed_time = graph_search(initial_state, action_set, goal_description, frontier)\n",
    "\n",
    "\n",
    "# The graph search function returns the following:\n",
    "print('Planning successful:', planning_success)\n",
    "print('Plan:', plan)\n",
    "print('Solution length:', len(plan))\n",
    "print('Number of states generated:', num_generated)\n",
    "print('Elapsed time:', elapsed_time)"
   ]
  },
  {
   "cell_type": "code",
   "execution_count": null,
   "metadata": {},
   "outputs": [],
   "source": []
  }
 ],
 "metadata": {
  "kernelspec": {
   "display_name": "ArtificialIntelligence",
   "language": "python",
   "name": "python3"
  },
  "language_info": {
   "codemirror_mode": {
    "name": "ipython",
    "version": 3
   },
   "file_extension": ".py",
   "mimetype": "text/x-python",
   "name": "python",
   "nbconvert_exporter": "python",
   "pygments_lexer": "ipython3",
   "version": "3.11.11"
  }
 },
 "nbformat": 4,
 "nbformat_minor": 2
}
